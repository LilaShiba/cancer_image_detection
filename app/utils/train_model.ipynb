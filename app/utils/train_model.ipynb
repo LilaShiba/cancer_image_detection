{
 "cells": [
  {
   "cell_type": "code",
   "execution_count": 1,
   "metadata": {},
   "outputs": [],
   "source": [
    "import numpy as np \n",
    "import pandas as pd \n",
    "import torch \n",
    "from torchsummary import summary\n",
    "from load_images import ImageLoad\n",
    "from neural_net import Convoultion_NN\n"
   ]
  },
  {
   "cell_type": "markdown",
   "metadata": {},
   "source": [
    "## ImageLoad Class Use"
   ]
  },
  {
   "cell_type": "code",
   "execution_count": 2,
   "metadata": {},
   "outputs": [],
   "source": [
    "folder_path = \"/Users/kjams/Desktop/research/health_informatics/app/data/stages\""
   ]
  },
  {
   "cell_type": "markdown",
   "metadata": {},
   "source": [
    "## CNN Class Use"
   ]
  },
  {
   "cell_type": "code",
   "execution_count": 3,
   "metadata": {},
   "outputs": [
    {
     "name": "stdout",
     "output_type": "stream",
     "text": [
      "Start image preprocessing...\n"
     ]
    },
    {
     "name": "stderr",
     "output_type": "stream",
     "text": [
      "Processing images: 100%|██████████| 4097/4097 [00:17<00:00, 233.45it/s]\n"
     ]
    },
    {
     "name": "stdout",
     "output_type": "stream",
     "text": [
      "💖Preprocessing completed.💖\n",
      "🦊 creating image and label tensors 🦊\n"
     ]
    },
    {
     "name": "stderr",
     "output_type": "stream",
     "text": [
      "100%|██████████| 13172/13172 [00:13<00:00, 992.57it/s] \n"
     ]
    },
    {
     "name": "stdout",
     "output_type": "stream",
     "text": [
      "Image and label tensors created\n",
      "Tensors saved to disk.\n"
     ]
    }
   ],
   "source": [
    "cnn = Convoultion_NN(folder_path)\n"
   ]
  },
  {
   "cell_type": "code",
   "execution_count": 4,
   "metadata": {},
   "outputs": [
    {
     "data": {
      "text/plain": [
       "Index(['Label', 'Image', 'EncodedLabel'], dtype='object')"
      ]
     },
     "execution_count": 4,
     "metadata": {},
     "output_type": "execute_result"
    }
   ],
   "source": [
    "cnn.df.head()\n",
    "cnn.df.columns"
   ]
  },
  {
   "cell_type": "code",
   "execution_count": 5,
   "metadata": {},
   "outputs": [
    {
     "name": "stdout",
     "output_type": "stream",
     "text": [
      "labels: 4\n",
      "architecture: deep-wide\n",
      "batch size: 32\n",
      "device: cpu\n",
      "Sequential(\n",
      "  (0): Conv2d(3, 128, kernel_size=(3, 3), stride=(1, 1), padding=(1, 1))\n",
      "  (1): BatchNorm2d(128, eps=1e-05, momentum=0.1, affine=True, track_running_stats=True)\n",
      "  (2): LeakyReLU(negative_slope=0.01)\n",
      "  (3): MaxPool2d(kernel_size=2, stride=2, padding=0, dilation=1, ceil_mode=False)\n",
      "  (4): Dropout2d(p=0.2, inplace=False)\n",
      "  (5): Conv2d(128, 128, kernel_size=(3, 3), stride=(1, 1), padding=(1, 1))\n",
      "  (6): BatchNorm2d(128, eps=1e-05, momentum=0.1, affine=True, track_running_stats=True)\n",
      "  (7): LeakyReLU(negative_slope=0.01)\n",
      "  (8): MaxPool2d(kernel_size=2, stride=2, padding=0, dilation=1, ceil_mode=False)\n",
      "  (9): Dropout2d(p=0.3, inplace=False)\n",
      "  (10): Conv2d(128, 256, kernel_size=(3, 3), stride=(1, 1), padding=(1, 1))\n",
      "  (11): BatchNorm2d(256, eps=1e-05, momentum=0.1, affine=True, track_running_stats=True)\n",
      "  (12): LeakyReLU(negative_slope=0.01)\n",
      "  (13): MaxPool2d(kernel_size=2, stride=2, padding=0, dilation=1, ceil_mode=False)\n",
      "  (14): Dropout2d(p=0.5, inplace=False)\n",
      "  (15): AdaptiveAvgPool2d(output_size=1)\n",
      "  (16): Flatten(start_dim=1, end_dim=-1)\n",
      "  (17): Linear(in_features=256, out_features=128, bias=True)\n",
      "  (18): LeakyReLU(negative_slope=0.01)\n",
      "  (19): Dropout(p=0.4, inplace=False)\n",
      "  (20): Linear(in_features=128, out_features=4, bias=True)\n",
      ")\n"
     ]
    }
   ],
   "source": [
    "print(f'labels: {cnn.number_of_labels}')\n",
    "print(f'architecture: {cnn.architecture}')\n",
    "print(f'batch size: {cnn.batch_size}')\n",
    "print(f'device: {cnn.device}')\n",
    "print(cnn.model)"
   ]
  },
  {
   "cell_type": "code",
   "execution_count": 6,
   "metadata": {},
   "outputs": [
    {
     "name": "stderr",
     "output_type": "stream",
     "text": [
      "100%|██████████| 330/330 [21:18<00:00,  3.87s/it]\n"
     ]
    },
    {
     "name": "stdout",
     "output_type": "stream",
     "text": [
      "Epoch [1/2], Loss: 0.5447\n"
     ]
    },
    {
     "name": "stderr",
     "output_type": "stream",
     "text": [
      "100%|██████████| 330/330 [21:04<00:00,  3.83s/it]\n"
     ]
    },
    {
     "name": "stdout",
     "output_type": "stream",
     "text": [
      "Epoch [2/2], Loss: 0.3147\n",
      "Test Accuracy after Epoch 2: 91.12%\n"
     ]
    }
   ],
   "source": [
    "cnn.train_model(epochs=2)\n"
   ]
  },
  {
   "cell_type": "code",
   "execution_count": 7,
   "metadata": {},
   "outputs": [
    {
     "name": "stdout",
     "output_type": "stream",
     "text": [
      "Model output: tensor([[ 1.7376,  3.0282, -1.7985, -5.1424]])\n"
     ]
    },
    {
     "data": {
      "text/plain": [
       "'Early'"
      ]
     },
     "execution_count": 7,
     "metadata": {},
     "output_type": "execute_result"
    }
   ],
   "source": [
    "# Malignant:Early\n",
    "test_file_path = '/Users/kjams/Desktop/research/health_informatics/app/data/stages/Early/WBC-Malignant-Early-132.jpg'\n",
    "\n",
    "cnn.process_image(test_file_path)"
   ]
  },
  {
   "cell_type": "code",
   "execution_count": 8,
   "metadata": {},
   "outputs": [
    {
     "name": "stdout",
     "output_type": "stream",
     "text": [
      "Model output: tensor([[ 0.5903, -3.2916, -0.9890,  5.5750]])\n"
     ]
    },
    {
     "data": {
      "text/plain": [
       "'Pro'"
      ]
     },
     "execution_count": 8,
     "metadata": {},
     "output_type": "execute_result"
    }
   ],
   "source": [
    "# Malignant:PRO\n",
    "test_file_path = '/Users/kjams/Desktop/research/health_informatics/app/data/stages/Pro/WBC-Malignant-Pro-209.jpg'\n",
    "\n",
    "cnn.process_image(test_file_path)"
   ]
  },
  {
   "cell_type": "code",
   "execution_count": 9,
   "metadata": {},
   "outputs": [
    {
     "name": "stdout",
     "output_type": "stream",
     "text": [
      "Model output: tensor([[ 5.3161, -0.0685, -0.7219, -3.5422]])\n"
     ]
    },
    {
     "data": {
      "text/plain": [
       "'Benign'"
      ]
     },
     "execution_count": 9,
     "metadata": {},
     "output_type": "execute_result"
    }
   ],
   "source": [
    "# Benign\n",
    "test_file_path = '/Users/kjams/Desktop/research/health_informatics/app/data/stages/Benign/WBC-Benign-421.jpg'\n",
    "\n",
    "cnn.process_image(test_file_path)\n"
   ]
  },
  {
   "cell_type": "code",
   "execution_count": 10,
   "metadata": {},
   "outputs": [],
   "source": [
    "# DONE: Create as in-class method\n",
    "# Save model\n",
    "state_dict = cnn.model.state_dict()  # Retrieve the model's state dictionary\n",
    "\n",
    "# Saving state to .pth file\n",
    "torch.save(state_dict, 'model_11_9_w.pth')\n",
    "\n",
    "# cnn.model.load_state_dict(torch.load('model_state.pth'))\n",
    "\n"
   ]
  },
  {
   "cell_type": "code",
   "execution_count": 11,
   "metadata": {},
   "outputs": [
    {
     "name": "stdout",
     "output_type": "stream",
     "text": [
      "----------------------------------------------------------------\n",
      "        Layer (type)               Output Shape         Param #\n",
      "================================================================\n",
      "            Conv2d-1          [-1, 128, 64, 64]           3,584\n",
      "       BatchNorm2d-2          [-1, 128, 64, 64]             256\n",
      "         LeakyReLU-3          [-1, 128, 64, 64]               0\n",
      "         MaxPool2d-4          [-1, 128, 32, 32]               0\n",
      "         Dropout2d-5          [-1, 128, 32, 32]               0\n",
      "            Conv2d-6          [-1, 128, 32, 32]         147,584\n",
      "       BatchNorm2d-7          [-1, 128, 32, 32]             256\n",
      "         LeakyReLU-8          [-1, 128, 32, 32]               0\n",
      "         MaxPool2d-9          [-1, 128, 16, 16]               0\n",
      "        Dropout2d-10          [-1, 128, 16, 16]               0\n",
      "           Conv2d-11          [-1, 256, 16, 16]         295,168\n",
      "      BatchNorm2d-12          [-1, 256, 16, 16]             512\n",
      "        LeakyReLU-13          [-1, 256, 16, 16]               0\n",
      "        MaxPool2d-14            [-1, 256, 8, 8]               0\n",
      "        Dropout2d-15            [-1, 256, 8, 8]               0\n",
      "AdaptiveAvgPool2d-16            [-1, 256, 1, 1]               0\n",
      "          Flatten-17                  [-1, 256]               0\n",
      "           Linear-18                  [-1, 128]          32,896\n",
      "        LeakyReLU-19                  [-1, 128]               0\n",
      "          Dropout-20                  [-1, 128]               0\n",
      "           Linear-21                    [-1, 4]             516\n",
      "================================================================\n",
      "Total params: 480,772\n",
      "Trainable params: 480,772\n",
      "Non-trainable params: 0\n",
      "----------------------------------------------------------------\n",
      "Input size (MB): 0.05\n",
      "Forward/backward pass size (MB): 19.26\n",
      "Params size (MB): 1.83\n",
      "Estimated Total Size (MB): 21.14\n",
      "----------------------------------------------------------------\n"
     ]
    }
   ],
   "source": [
    "summary(cnn.model, input_size=(3, 64, 64))"
   ]
  },
  {
   "cell_type": "code",
   "execution_count": 12,
   "metadata": {},
   "outputs": [
    {
     "name": "stdout",
     "output_type": "stream",
     "text": [
      "Benign:, 3293\n",
      "Early:, 3293\n",
      "Pre:, 3293\n",
      "Pro:, 3293\n"
     ]
    }
   ],
   "source": [
    "for name in cnn.df['Label'].unique():\n",
    "    print(f\"{name}:, {(cnn.df['Label'] == name).sum()}\")"
   ]
  }
 ],
 "metadata": {
  "kernelspec": {
   "display_name": "cancer_app",
   "language": "python",
   "name": "python3"
  },
  "language_info": {
   "codemirror_mode": {
    "name": "ipython",
    "version": 3
   },
   "file_extension": ".py",
   "mimetype": "text/x-python",
   "name": "python",
   "nbconvert_exporter": "python",
   "pygments_lexer": "ipython3",
   "version": "3.9.20"
  }
 },
 "nbformat": 4,
 "nbformat_minor": 2
}
