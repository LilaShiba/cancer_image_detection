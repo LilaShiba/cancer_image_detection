{
 "cells": [
  {
   "cell_type": "code",
   "execution_count": 1,
   "metadata": {},
   "outputs": [],
   "source": [
    "import numpy as np \n",
    "import pandas as pd \n",
    "import torch \n",
    "from torchsummary import summary\n",
    "from load_images import ImageLoad\n",
    "from neural_net import Convoultion_NN\n"
   ]
  },
  {
   "cell_type": "markdown",
   "metadata": {},
   "source": [
    "## ImageLoad Class Use"
   ]
  },
  {
   "cell_type": "code",
   "execution_count": 2,
   "metadata": {},
   "outputs": [],
   "source": [
    "folder_path = \"/Users/kjams/Desktop/research/health_informatics/app/data/stages\""
   ]
  },
  {
   "cell_type": "markdown",
   "metadata": {},
   "source": [
    "## CNN Class Use"
   ]
  },
  {
   "cell_type": "code",
   "execution_count": 3,
   "metadata": {},
   "outputs": [
    {
     "name": "stdout",
     "output_type": "stream",
     "text": [
      "Start image preprocessing...\n"
     ]
    },
    {
     "name": "stderr",
     "output_type": "stream",
     "text": [
      "Processing images: 100%|██████████| 4097/4097 [00:09<00:00, 439.93it/s]\n"
     ]
    },
    {
     "name": "stdout",
     "output_type": "stream",
     "text": [
      "💖Preprocessing completed.💖\n",
      "🦊 creating image and label tensors 🦊\n"
     ]
    },
    {
     "name": "stderr",
     "output_type": "stream",
     "text": [
      "100%|██████████| 13148/13148 [00:02<00:00, 5820.17it/s]\n"
     ]
    },
    {
     "name": "stdout",
     "output_type": "stream",
     "text": [
      "Image and label tensors created\n",
      "Tensors saved to disk.\n"
     ]
    }
   ],
   "source": [
    "cnn = Convoultion_NN(folder_path)\n"
   ]
  },
  {
   "cell_type": "code",
   "execution_count": 4,
   "metadata": {},
   "outputs": [
    {
     "data": {
      "text/html": [
       "<div>\n",
       "<style scoped>\n",
       "    .dataframe tbody tr th:only-of-type {\n",
       "        vertical-align: middle;\n",
       "    }\n",
       "\n",
       "    .dataframe tbody tr th {\n",
       "        vertical-align: top;\n",
       "    }\n",
       "\n",
       "    .dataframe thead th {\n",
       "        text-align: right;\n",
       "    }\n",
       "</style>\n",
       "<table border=\"1\" class=\"dataframe\">\n",
       "  <thead>\n",
       "    <tr style=\"text-align: right;\">\n",
       "      <th></th>\n",
       "      <th>Label</th>\n",
       "      <th>Image</th>\n",
       "      <th>EncodedLabel</th>\n",
       "    </tr>\n",
       "  </thead>\n",
       "  <tbody>\n",
       "    <tr>\n",
       "      <th>0</th>\n",
       "      <td>Benign</td>\n",
       "      <td>[[[177, 152, 161], [182, 153, 166], [194, 164,...</td>\n",
       "      <td>0</td>\n",
       "    </tr>\n",
       "    <tr>\n",
       "      <th>1</th>\n",
       "      <td>Benign</td>\n",
       "      <td>[[[232, 150, 160], [236, 150, 155], [223, 163,...</td>\n",
       "      <td>0</td>\n",
       "    </tr>\n",
       "    <tr>\n",
       "      <th>2</th>\n",
       "      <td>Benign</td>\n",
       "      <td>[[[240, 229, 227], [239, 233, 228], [236, 233,...</td>\n",
       "      <td>0</td>\n",
       "    </tr>\n",
       "    <tr>\n",
       "      <th>3</th>\n",
       "      <td>Benign</td>\n",
       "      <td>[[[217, 199, 193], [217, 197, 191], [219, 198,...</td>\n",
       "      <td>0</td>\n",
       "    </tr>\n",
       "    <tr>\n",
       "      <th>4</th>\n",
       "      <td>Benign</td>\n",
       "      <td>[[[255, 255, 208], [255, 255, 154], [255, 159,...</td>\n",
       "      <td>0</td>\n",
       "    </tr>\n",
       "  </tbody>\n",
       "</table>\n",
       "</div>"
      ],
      "text/plain": [
       "    Label                                              Image  EncodedLabel\n",
       "0  Benign  [[[177, 152, 161], [182, 153, 166], [194, 164,...             0\n",
       "1  Benign  [[[232, 150, 160], [236, 150, 155], [223, 163,...             0\n",
       "2  Benign  [[[240, 229, 227], [239, 233, 228], [236, 233,...             0\n",
       "3  Benign  [[[217, 199, 193], [217, 197, 191], [219, 198,...             0\n",
       "4  Benign  [[[255, 255, 208], [255, 255, 154], [255, 159,...             0"
      ]
     },
     "execution_count": 4,
     "metadata": {},
     "output_type": "execute_result"
    }
   ],
   "source": [
    "cnn.df.head()"
   ]
  },
  {
   "cell_type": "code",
   "execution_count": 5,
   "metadata": {},
   "outputs": [
    {
     "name": "stdout",
     "output_type": "stream",
     "text": [
      "labels: 4\n",
      "architecture: deep-wide\n",
      "batch size: 32\n",
      "device: cpu\n",
      "Sequential(\n",
      "  (0): Conv2d(3, 64, kernel_size=(5, 5), stride=(1, 1), padding=(2, 2))\n",
      "  (1): BatchNorm2d(64, eps=1e-05, momentum=0.1, affine=True, track_running_stats=True)\n",
      "  (2): LeakyReLU(negative_slope=0.01)\n",
      "  (3): MaxPool2d(kernel_size=2, stride=2, padding=0, dilation=1, ceil_mode=False)\n",
      "  (4): Dropout2d(p=0.2, inplace=False)\n",
      "  (5): Conv2d(64, 128, kernel_size=(3, 3), stride=(1, 1), padding=(1, 1))\n",
      "  (6): BatchNorm2d(128, eps=1e-05, momentum=0.1, affine=True, track_running_stats=True)\n",
      "  (7): LeakyReLU(negative_slope=0.01)\n",
      "  (8): MaxPool2d(kernel_size=2, stride=2, padding=0, dilation=1, ceil_mode=False)\n",
      "  (9): Dropout2d(p=0.3, inplace=False)\n",
      "  (10): Conv2d(128, 256, kernel_size=(3, 3), stride=(1, 1), padding=(1, 1))\n",
      "  (11): BatchNorm2d(256, eps=1e-05, momentum=0.1, affine=True, track_running_stats=True)\n",
      "  (12): LeakyReLU(negative_slope=0.01)\n",
      "  (13): MaxPool2d(kernel_size=2, stride=2, padding=0, dilation=1, ceil_mode=False)\n",
      "  (14): Dropout2d(p=0.4, inplace=False)\n",
      "  (15): Conv2d(256, 512, kernel_size=(3, 3), stride=(1, 1), padding=(1, 1))\n",
      "  (16): BatchNorm2d(512, eps=1e-05, momentum=0.1, affine=True, track_running_stats=True)\n",
      "  (17): LeakyReLU(negative_slope=0.01)\n",
      "  (18): MaxPool2d(kernel_size=2, stride=2, padding=0, dilation=1, ceil_mode=False)\n",
      "  (19): Dropout2d(p=0.5, inplace=False)\n",
      "  (20): Flatten(start_dim=1, end_dim=-1)\n",
      "  (21): Linear(in_features=8192, out_features=1024, bias=True)\n",
      "  (22): LeakyReLU(negative_slope=0.01)\n",
      "  (23): Dropout(p=0.5, inplace=False)\n",
      "  (24): Linear(in_features=1024, out_features=512, bias=True)\n",
      "  (25): LeakyReLU(negative_slope=0.01)\n",
      "  (26): Dropout(p=0.4, inplace=False)\n",
      "  (27): Linear(in_features=512, out_features=4, bias=True)\n",
      ")\n"
     ]
    }
   ],
   "source": [
    "print(f'labels: {cnn.number_of_labels}')\n",
    "print(f'architecture: {cnn.architecture}')\n",
    "print(f'batch size: {cnn.batch_size}')\n",
    "print(f'device: {cnn.device}')\n",
    "print(cnn.model)"
   ]
  },
  {
   "cell_type": "code",
   "execution_count": 6,
   "metadata": {},
   "outputs": [
    {
     "name": "stderr",
     "output_type": "stream",
     "text": [
      "100%|██████████| 329/329 [04:13<00:00,  1.30it/s]\n"
     ]
    },
    {
     "name": "stdout",
     "output_type": "stream",
     "text": [
      "Epoch [1/2], Loss: 0.7371\n"
     ]
    },
    {
     "name": "stderr",
     "output_type": "stream",
     "text": [
      "100%|██████████| 329/329 [04:14<00:00,  1.29it/s]\n"
     ]
    },
    {
     "name": "stdout",
     "output_type": "stream",
     "text": [
      "Epoch [2/2], Loss: 0.4243\n",
      "Test Accuracy after Epoch 2: 88.86%\n"
     ]
    }
   ],
   "source": [
    "cnn.train_model(epochs=2)\n"
   ]
  },
  {
   "cell_type": "code",
   "execution_count": 7,
   "metadata": {},
   "outputs": [
    {
     "name": "stdout",
     "output_type": "stream",
     "text": [
      "Model output: tensor([[ 2.0996,  2.8154, -1.0291, -4.6643]])\n"
     ]
    },
    {
     "data": {
      "text/plain": [
       "'Early'"
      ]
     },
     "execution_count": 7,
     "metadata": {},
     "output_type": "execute_result"
    }
   ],
   "source": [
    "# Malignant:Early\n",
    "test_file_path = '/Users/kjams/Desktop/research/health_informatics/app/data/stages/Early/WBC-Malignant-Early-132.jpg'\n",
    "\n",
    "cnn.process_image(test_file_path)"
   ]
  },
  {
   "cell_type": "code",
   "execution_count": 8,
   "metadata": {},
   "outputs": [
    {
     "name": "stdout",
     "output_type": "stream",
     "text": [
      "Model output: tensor([[ 0.4527, -1.9559, -0.9514,  8.9176]])\n"
     ]
    },
    {
     "data": {
      "text/plain": [
       "'Pro'"
      ]
     },
     "execution_count": 8,
     "metadata": {},
     "output_type": "execute_result"
    }
   ],
   "source": [
    "# Malignant:PRO\n",
    "test_file_path = '/Users/kjams/Desktop/research/health_informatics/app/data/stages/Pro/WBC-Malignant-Pro-209.jpg'\n",
    "\n",
    "cnn.process_image(test_file_path)"
   ]
  },
  {
   "cell_type": "code",
   "execution_count": 9,
   "metadata": {},
   "outputs": [
    {
     "name": "stdout",
     "output_type": "stream",
     "text": [
      "Model output: tensor([[ 5.0995, -0.5383, -0.2908, -2.2226]])\n"
     ]
    },
    {
     "data": {
      "text/plain": [
       "'Benign'"
      ]
     },
     "execution_count": 9,
     "metadata": {},
     "output_type": "execute_result"
    }
   ],
   "source": [
    "# Benign\n",
    "test_file_path = '/Users/kjams/Desktop/research/health_informatics/app/data/stages/Benign/WBC-Benign-421.jpg'\n",
    "\n",
    "cnn.process_image(test_file_path)\n"
   ]
  },
  {
   "cell_type": "code",
   "execution_count": 10,
   "metadata": {},
   "outputs": [],
   "source": [
    "# DONE: Create as in-class method\n",
    "# Save model\n",
    "state_dict = cnn.model.state_dict()  # Retrieve the model's state dictionary\n",
    "\n",
    "# Saving state to .pth file\n",
    "torch.save(state_dict, 'model_11_8_w.pth')\n",
    "\n",
    "# cnn.model.load_state_dict(torch.load('model_state.pth'))\n",
    "\n"
   ]
  },
  {
   "cell_type": "code",
   "execution_count": 11,
   "metadata": {},
   "outputs": [
    {
     "name": "stdout",
     "output_type": "stream",
     "text": [
      "----------------------------------------------------------------\n",
      "        Layer (type)               Output Shape         Param #\n",
      "================================================================\n",
      "            Conv2d-1           [-1, 64, 64, 64]           4,864\n",
      "       BatchNorm2d-2           [-1, 64, 64, 64]             128\n",
      "         LeakyReLU-3           [-1, 64, 64, 64]               0\n",
      "         MaxPool2d-4           [-1, 64, 32, 32]               0\n",
      "         Dropout2d-5           [-1, 64, 32, 32]               0\n",
      "            Conv2d-6          [-1, 128, 32, 32]          73,856\n",
      "       BatchNorm2d-7          [-1, 128, 32, 32]             256\n",
      "         LeakyReLU-8          [-1, 128, 32, 32]               0\n",
      "         MaxPool2d-9          [-1, 128, 16, 16]               0\n",
      "        Dropout2d-10          [-1, 128, 16, 16]               0\n",
      "           Conv2d-11          [-1, 256, 16, 16]         295,168\n",
      "      BatchNorm2d-12          [-1, 256, 16, 16]             512\n",
      "        LeakyReLU-13          [-1, 256, 16, 16]               0\n",
      "        MaxPool2d-14            [-1, 256, 8, 8]               0\n",
      "        Dropout2d-15            [-1, 256, 8, 8]               0\n",
      "           Conv2d-16            [-1, 512, 8, 8]       1,180,160\n",
      "      BatchNorm2d-17            [-1, 512, 8, 8]           1,024\n",
      "        LeakyReLU-18            [-1, 512, 8, 8]               0\n",
      "        MaxPool2d-19            [-1, 512, 4, 4]               0\n",
      "        Dropout2d-20            [-1, 512, 4, 4]               0\n",
      "          Flatten-21                 [-1, 8192]               0\n",
      "           Linear-22                 [-1, 1024]       8,389,632\n",
      "        LeakyReLU-23                 [-1, 1024]               0\n",
      "          Dropout-24                 [-1, 1024]               0\n",
      "           Linear-25                  [-1, 512]         524,800\n",
      "        LeakyReLU-26                  [-1, 512]               0\n",
      "          Dropout-27                  [-1, 512]               0\n",
      "           Linear-28                    [-1, 4]           2,052\n",
      "================================================================\n",
      "Total params: 10,472,452\n",
      "Trainable params: 10,472,452\n",
      "Non-trainable params: 0\n",
      "----------------------------------------------------------------\n",
      "Input size (MB): 0.05\n",
      "Forward/backward pass size (MB): 13.22\n",
      "Params size (MB): 39.95\n",
      "Estimated Total Size (MB): 53.22\n",
      "----------------------------------------------------------------\n"
     ]
    }
   ],
   "source": [
    "summary(cnn.model, input_size=(3, 64, 64))"
   ]
  },
  {
   "cell_type": "code",
   "execution_count": 12,
   "metadata": {},
   "outputs": [
    {
     "name": "stdout",
     "output_type": "stream",
     "text": [
      "Benign:, 3287\n",
      "Early:, 3287\n",
      "Pre:, 3287\n",
      "Pro:, 3287\n"
     ]
    }
   ],
   "source": [
    "for name in cnn.df['Label'].unique():\n",
    "    print(f\"{name}:, {(cnn.df['Label'] == name).sum()}\")"
   ]
  }
 ],
 "metadata": {
  "kernelspec": {
   "display_name": "cancer_app",
   "language": "python",
   "name": "python3"
  },
  "language_info": {
   "codemirror_mode": {
    "name": "ipython",
    "version": 3
   },
   "file_extension": ".py",
   "mimetype": "text/x-python",
   "name": "python",
   "nbconvert_exporter": "python",
   "pygments_lexer": "ipython3",
   "version": "3.9.20"
  }
 },
 "nbformat": 4,
 "nbformat_minor": 2
}
