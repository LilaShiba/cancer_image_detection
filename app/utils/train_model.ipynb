{
 "cells": [
  {
   "cell_type": "code",
   "execution_count": 7,
   "metadata": {},
   "outputs": [],
   "source": [
    "import numpy as np\n",
    "import pandas as pd\n",
    "import torch\n",
    "from torchsummary import summary\n",
    "from load_images import ImageLoad\n",
    "from neural_net import Convoultion_NN"
   ]
  },
  {
   "cell_type": "markdown",
   "metadata": {},
   "source": [
    "## ImageLoad Class Use"
   ]
  },
  {
   "cell_type": "code",
   "execution_count": 8,
   "metadata": {},
   "outputs": [],
   "source": [
    "folder_path = \"/Users/kjams/Desktop/research/health_informatics/app/data/stages\""
   ]
  },
  {
   "cell_type": "markdown",
   "metadata": {},
   "source": [
    "## CNN Class Use"
   ]
  },
  {
   "cell_type": "code",
   "execution_count": 9,
   "metadata": {},
   "outputs": [
    {
     "name": "stdout",
     "output_type": "stream",
     "text": [
      "Start image preprocessing...\n"
     ]
    },
    {
     "name": "stderr",
     "output_type": "stream",
     "text": [
      "Processing images: 100%|██████████| 4097/4097 [00:16<00:00, 254.57it/s]\n"
     ]
    },
    {
     "name": "stdout",
     "output_type": "stream",
     "text": [
      "💖Preprocessing completed.💖\n",
      "🦊 creating image and label tensors 🦊\n"
     ]
    },
    {
     "name": "stderr",
     "output_type": "stream",
     "text": [
      "100%|██████████| 6166/6166 [00:05<00:00, 1034.18it/s]\n"
     ]
    },
    {
     "name": "stdout",
     "output_type": "stream",
     "text": [
      "Image and label tensors created\n",
      "Tensors saved to disk.\n"
     ]
    }
   ],
   "source": [
    "cnn = Convoultion_NN(folder_path)"
   ]
  },
  {
   "cell_type": "code",
   "execution_count": 10,
   "metadata": {},
   "outputs": [
    {
     "data": {
      "text/html": [
       "<div>\n",
       "<style scoped>\n",
       "    .dataframe tbody tr th:only-of-type {\n",
       "        vertical-align: middle;\n",
       "    }\n",
       "\n",
       "    .dataframe tbody tr th {\n",
       "        vertical-align: top;\n",
       "    }\n",
       "\n",
       "    .dataframe thead th {\n",
       "        text-align: right;\n",
       "    }\n",
       "</style>\n",
       "<table border=\"1\" class=\"dataframe\">\n",
       "  <thead>\n",
       "    <tr style=\"text-align: right;\">\n",
       "      <th></th>\n",
       "      <th>Label</th>\n",
       "      <th>Image</th>\n",
       "      <th>EncodedLabel</th>\n",
       "    </tr>\n",
       "  </thead>\n",
       "  <tbody>\n",
       "    <tr>\n",
       "      <th>0</th>\n",
       "      <td>Early</td>\n",
       "      <td>[[[226, 208, 206], [205, 167, 167], [205, 165,...</td>\n",
       "      <td>1</td>\n",
       "    </tr>\n",
       "    <tr>\n",
       "      <th>1</th>\n",
       "      <td>Early</td>\n",
       "      <td>[[[207, 159, 151], [213, 156, 146], [229, 193,...</td>\n",
       "      <td>1</td>\n",
       "    </tr>\n",
       "    <tr>\n",
       "      <th>2</th>\n",
       "      <td>Early</td>\n",
       "      <td>[[[231, 224, 219], [238, 225, 219], [236, 228,...</td>\n",
       "      <td>1</td>\n",
       "    </tr>\n",
       "    <tr>\n",
       "      <th>3</th>\n",
       "      <td>Early</td>\n",
       "      <td>[[[222, 175, 177], [228, 190, 190], [222, 187,...</td>\n",
       "      <td>1</td>\n",
       "    </tr>\n",
       "    <tr>\n",
       "      <th>4</th>\n",
       "      <td>Early</td>\n",
       "      <td>[[[218, 180, 172], [216, 179, 171], [207, 169,...</td>\n",
       "      <td>1</td>\n",
       "    </tr>\n",
       "  </tbody>\n",
       "</table>\n",
       "</div>"
      ],
      "text/plain": [
       "   Label                                              Image  EncodedLabel\n",
       "0  Early  [[[226, 208, 206], [205, 167, 167], [205, 165,...             1\n",
       "1  Early  [[[207, 159, 151], [213, 156, 146], [229, 193,...             1\n",
       "2  Early  [[[231, 224, 219], [238, 225, 219], [236, 228,...             1\n",
       "3  Early  [[[222, 175, 177], [228, 190, 190], [222, 187,...             1\n",
       "4  Early  [[[218, 180, 172], [216, 179, 171], [207, 169,...             1"
      ]
     },
     "execution_count": 10,
     "metadata": {},
     "output_type": "execute_result"
    }
   ],
   "source": [
    "cnn.df.head()\n",
    "# cnn.df.columns"
   ]
  },
  {
   "cell_type": "code",
   "execution_count": 11,
   "metadata": {},
   "outputs": [
    {
     "name": "stdout",
     "output_type": "stream",
     "text": [
      "labels: 4\n",
      "architecture: deep-wide\n",
      "batch size: 32\n",
      "device: cpu\n",
      "Sequential(\n",
      "  (0): Conv2d(3, 128, kernel_size=(3, 3), stride=(1, 1), padding=(1, 1))\n",
      "  (1): BatchNorm2d(128, eps=1e-05, momentum=0.1, affine=True, track_running_stats=True)\n",
      "  (2): LeakyReLU(negative_slope=0.01)\n",
      "  (3): MaxPool2d(kernel_size=2, stride=2, padding=0, dilation=1, ceil_mode=False)\n",
      "  (4): Dropout2d(p=0.2, inplace=False)\n",
      "  (5): Conv2d(128, 128, kernel_size=(3, 3), stride=(1, 1), padding=(1, 1))\n",
      "  (6): BatchNorm2d(128, eps=1e-05, momentum=0.1, affine=True, track_running_stats=True)\n",
      "  (7): LeakyReLU(negative_slope=0.01)\n",
      "  (8): MaxPool2d(kernel_size=2, stride=2, padding=0, dilation=1, ceil_mode=False)\n",
      "  (9): Dropout2d(p=0.3, inplace=False)\n",
      "  (10): Conv2d(128, 256, kernel_size=(3, 3), stride=(1, 1), padding=(1, 1))\n",
      "  (11): BatchNorm2d(256, eps=1e-05, momentum=0.1, affine=True, track_running_stats=True)\n",
      "  (12): LeakyReLU(negative_slope=0.01)\n",
      "  (13): MaxPool2d(kernel_size=2, stride=2, padding=0, dilation=1, ceil_mode=False)\n",
      "  (14): Dropout2d(p=0.5, inplace=False)\n",
      "  (15): AdaptiveAvgPool2d(output_size=1)\n",
      "  (16): Flatten(start_dim=1, end_dim=-1)\n",
      "  (17): Linear(in_features=256, out_features=128, bias=True)\n",
      "  (18): LeakyReLU(negative_slope=0.01)\n",
      "  (19): Dropout(p=0.4, inplace=False)\n",
      "  (20): Linear(in_features=128, out_features=4, bias=True)\n",
      ")\n"
     ]
    }
   ],
   "source": [
    "print(f'labels: {cnn.number_of_labels}')\n",
    "print(f'architecture: {cnn.architecture}')\n",
    "print(f'batch size: {cnn.batch_size}')\n",
    "print(f'device: {cnn.device}')\n",
    "print(cnn.model)"
   ]
  },
  {
   "cell_type": "code",
   "execution_count": 12,
   "metadata": {},
   "outputs": [
    {
     "name": "stderr",
     "output_type": "stream",
     "text": [
      "100%|██████████| 155/155 [08:54<00:00,  3.45s/it]\n"
     ]
    },
    {
     "name": "stdout",
     "output_type": "stream",
     "text": [
      "Epoch [1/2], Loss: 0.5642\n"
     ]
    },
    {
     "name": "stderr",
     "output_type": "stream",
     "text": [
      "100%|██████████| 155/155 [08:19<00:00,  3.22s/it]\n"
     ]
    },
    {
     "name": "stdout",
     "output_type": "stream",
     "text": [
      "Epoch [2/2], Loss: 0.3386\n",
      "Test Accuracy after Epoch 2: 91.00%\n"
     ]
    }
   ],
   "source": [
    "cnn.train_model(epochs=2)"
   ]
  },
  {
   "cell_type": "code",
   "execution_count": 13,
   "metadata": {},
   "outputs": [
    {
     "name": "stdout",
     "output_type": "stream",
     "text": [
      "Model output: tensor([[ 1.0534,  3.9772, -0.7847, -3.4577]])\n"
     ]
    },
    {
     "data": {
      "text/plain": [
       "'Early'"
      ]
     },
     "execution_count": 13,
     "metadata": {},
     "output_type": "execute_result"
    }
   ],
   "source": [
    "# Malignant:Early\n",
    "test_file_path = '/Users/kjams/Desktop/research/health_informatics/app/data/stages/Early/WBC-Malignant-Early-132.jpg'\n",
    "\n",
    "cnn.process_image(test_file_path)"
   ]
  },
  {
   "cell_type": "code",
   "execution_count": 14,
   "metadata": {},
   "outputs": [
    {
     "name": "stdout",
     "output_type": "stream",
     "text": [
      "Model output: tensor([[ 1.6435, -3.7550, -2.0605,  4.6313]])\n"
     ]
    },
    {
     "data": {
      "text/plain": [
       "'Pro'"
      ]
     },
     "execution_count": 14,
     "metadata": {},
     "output_type": "execute_result"
    }
   ],
   "source": [
    "# Malignant:PRO\n",
    "test_file_path = '/Users/kjams/Desktop/research/health_informatics/app/data/stages/Pro/WBC-Malignant-Pro-209.jpg'\n",
    "\n",
    "cnn.process_image(test_file_path)"
   ]
  },
  {
   "cell_type": "code",
   "execution_count": 15,
   "metadata": {},
   "outputs": [
    {
     "name": "stdout",
     "output_type": "stream",
     "text": [
      "Model output: tensor([[ 4.6560, -1.5024, -1.3461, -2.8886]])\n"
     ]
    },
    {
     "data": {
      "text/plain": [
       "'Benign'"
      ]
     },
     "execution_count": 15,
     "metadata": {},
     "output_type": "execute_result"
    }
   ],
   "source": [
    "# Benign\n",
    "test_file_path = '/Users/kjams/Desktop/research/health_informatics/app/data/stages/Benign/WBC-Benign-421.jpg'\n",
    "\n",
    "cnn.process_image(test_file_path)"
   ]
  },
  {
   "cell_type": "code",
   "execution_count": 16,
   "metadata": {},
   "outputs": [],
   "source": [
    "# DONE: Create as in-class method\n",
    "# Save model\n",
    "state_dict = cnn.model.state_dict()  # Retrieve the model's state dictionary\n",
    "\n",
    "# Saving state to .pth file\n",
    "torch.save(state_dict, 'model_11_14_dw.pth')\n",
    "\n",
    "# cnn.model.load_state_dict(torch.load('model_state.pth'))"
   ]
  },
  {
   "cell_type": "code",
   "execution_count": 17,
   "metadata": {},
   "outputs": [
    {
     "name": "stdout",
     "output_type": "stream",
     "text": [
      "----------------------------------------------------------------\n",
      "        Layer (type)               Output Shape         Param #\n",
      "================================================================\n",
      "            Conv2d-1        [-1, 128, 128, 238]           3,584\n",
      "       BatchNorm2d-2        [-1, 128, 128, 238]             256\n",
      "         LeakyReLU-3        [-1, 128, 128, 238]               0\n",
      "         MaxPool2d-4         [-1, 128, 64, 119]               0\n",
      "         Dropout2d-5         [-1, 128, 64, 119]               0\n",
      "            Conv2d-6         [-1, 128, 64, 119]         147,584\n",
      "       BatchNorm2d-7         [-1, 128, 64, 119]             256\n",
      "         LeakyReLU-8         [-1, 128, 64, 119]               0\n",
      "         MaxPool2d-9          [-1, 128, 32, 59]               0\n",
      "        Dropout2d-10          [-1, 128, 32, 59]               0\n",
      "           Conv2d-11          [-1, 256, 32, 59]         295,168\n",
      "      BatchNorm2d-12          [-1, 256, 32, 59]             512\n",
      "        LeakyReLU-13          [-1, 256, 32, 59]               0\n",
      "        MaxPool2d-14          [-1, 256, 16, 29]               0\n",
      "        Dropout2d-15          [-1, 256, 16, 29]               0\n",
      "AdaptiveAvgPool2d-16            [-1, 256, 1, 1]               0\n",
      "          Flatten-17                  [-1, 256]               0\n",
      "           Linear-18                  [-1, 128]          32,896\n",
      "        LeakyReLU-19                  [-1, 128]               0\n",
      "          Dropout-20                  [-1, 128]               0\n",
      "           Linear-21                    [-1, 4]             516\n",
      "================================================================\n",
      "Total params: 480,772\n",
      "Trainable params: 480,772\n",
      "Non-trainable params: 0\n",
      "----------------------------------------------------------------\n",
      "Input size (MB): 0.35\n",
      "Forward/backward pass size (MB): 143.01\n",
      "Params size (MB): 1.83\n",
      "Estimated Total Size (MB): 145.19\n",
      "----------------------------------------------------------------\n"
     ]
    }
   ],
   "source": [
    "summary(cnn.model, input_size=(3, 128, 238))"
   ]
  },
  {
   "cell_type": "code",
   "execution_count": 18,
   "metadata": {},
   "outputs": [
    {
     "name": "stdout",
     "output_type": "stream",
     "text": [
      "Early:, 2738\n",
      "Pro:, 1183\n",
      "Benign:, 770\n",
      "Pre:, 1475\n"
     ]
    }
   ],
   "source": [
    "for name in cnn.df['Label'].unique():\n",
    "    print(f\"{name}:, {(cnn.df['Label'] == name).sum()}\")"
   ]
  }
 ],
 "metadata": {
  "kernelspec": {
   "display_name": "cancer_app",
   "language": "python",
   "name": "python3"
  },
  "language_info": {
   "codemirror_mode": {
    "name": "ipython",
    "version": 3
   },
   "file_extension": ".py",
   "mimetype": "text/x-python",
   "name": "python",
   "nbconvert_exporter": "python",
   "pygments_lexer": "ipython3",
   "version": "3.9.20"
  }
 },
 "nbformat": 4,
 "nbformat_minor": 2
}
