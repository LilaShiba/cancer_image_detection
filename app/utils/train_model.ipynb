{
 "cells": [
  {
   "cell_type": "code",
   "execution_count": null,
   "metadata": {},
   "outputs": [],
   "source": [
    "import numpy as np \n",
    "import pandas as pd \n",
    "import torch \n",
    "from torchsummary import summary\n",
    "from load_images import ImageLoad\n",
    "from neural_net import Convoultion_NN\n"
   ]
  },
  {
   "cell_type": "markdown",
   "metadata": {},
   "source": [
    "## ImageLoad Class Use"
   ]
  },
  {
   "cell_type": "code",
   "execution_count": null,
   "metadata": {},
   "outputs": [],
   "source": [
    "folder_path = \"/Users/kjams/Desktop/research/health_informatics/app/data/stages\""
   ]
  },
  {
   "cell_type": "markdown",
   "metadata": {},
   "source": [
    "## CNN Class Use"
   ]
  },
  {
   "cell_type": "code",
   "execution_count": null,
   "metadata": {},
   "outputs": [],
   "source": [
    "cnn = Convoultion_NN(folder_path)\n"
   ]
  },
  {
   "cell_type": "code",
   "execution_count": null,
   "metadata": {},
   "outputs": [],
   "source": [
    "cnn.df.head()"
   ]
  },
  {
   "cell_type": "code",
   "execution_count": null,
   "metadata": {},
   "outputs": [],
   "source": [
    "print(f'labels: {cnn.number_of_labels}')\n",
    "print(f'architecture: {cnn.architecture}')\n",
    "print(f'batch size: {cnn.batch_size}')\n",
    "print(f'device: {cnn.device}')\n",
    "print(cnn.model)"
   ]
  },
  {
   "cell_type": "code",
   "execution_count": null,
   "metadata": {},
   "outputs": [],
   "source": [
    "cnn.train_model(epochs=2)\n"
   ]
  },
  {
   "cell_type": "code",
   "execution_count": null,
   "metadata": {},
   "outputs": [],
   "source": [
    "# Malignant:Early\n",
    "test_file_path = '/Users/kjams/Desktop/research/health_informatics/app/data/stages/Early/WBC-Malignant-Early-002.jpg'\n",
    "\n",
    "cnn.process_image(test_file_path)"
   ]
  },
  {
   "cell_type": "code",
   "execution_count": null,
   "metadata": {},
   "outputs": [],
   "source": [
    "# Malignant:PRO\n",
    "test_file_path = '/Users/kjams/Desktop/research/health_informatics/app/data/stages/Pro/WBC-Malignant-Pro-009.jpg'\n",
    "\n",
    "cnn.process_image(test_file_path)"
   ]
  },
  {
   "cell_type": "code",
   "execution_count": null,
   "metadata": {},
   "outputs": [],
   "source": [
    "# Benign\n",
    "test_file_path = '/Users/kjams/Desktop/research/health_informatics/app/data/stages/Benign/WBC-Benign-311.jpg'\n",
    "\n",
    "cnn.process_image(test_file_path)\n"
   ]
  },
  {
   "cell_type": "code",
   "execution_count": null,
   "metadata": {},
   "outputs": [],
   "source": [
    "# DONE: Create as in-class method\n",
    "# Save model\n",
    "state_dict = cnn.model.state_dict()  # Retrieve the model's state dictionary\n",
    "\n",
    "# Saving state to .pth file\n",
    "torch.save(state_dict, 'model_11_5.pth')\n",
    "\n",
    "# cnn.model.load_state_dict(torch.load('model_state.pth'))\n",
    "\n"
   ]
  },
  {
   "cell_type": "code",
   "execution_count": null,
   "metadata": {},
   "outputs": [],
   "source": [
    "summary(cnn.model, input_size=(3, 64, 64))"
   ]
  },
  {
   "cell_type": "code",
   "execution_count": null,
   "metadata": {},
   "outputs": [],
   "source": [
    "for name in cnn.df['Label'].unique():\n",
    "    print(f\"{name}:, {(cnn.df['Label'] == name).sum()}\")"
   ]
  },
  {
   "cell_type": "code",
   "execution_count": null,
   "metadata": {},
   "outputs": [],
   "source": []
  }
 ],
 "metadata": {
  "kernelspec": {
   "display_name": "cancer_app",
   "language": "python",
   "name": "python3"
  },
  "language_info": {
   "codemirror_mode": {
    "name": "ipython",
    "version": 3
   },
   "file_extension": ".py",
   "mimetype": "text/x-python",
   "name": "python",
   "nbconvert_exporter": "python",
   "pygments_lexer": "ipython3",
   "version": "3.9.20"
  }
 },
 "nbformat": 4,
 "nbformat_minor": 2
}
