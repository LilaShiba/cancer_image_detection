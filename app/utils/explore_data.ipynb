{
 "cells": [
  {
   "cell_type": "code",
   "execution_count": 1,
   "metadata": {},
   "outputs": [],
   "source": [
    "import numpy as np \n",
    "import pandas as pd \n",
    "import torch \n",
    "from torchsummary import summary\n",
    "from load_images import ImageLoad\n",
    "from neural_net import Convoultion_NN\n"
   ]
  },
  {
   "cell_type": "markdown",
   "metadata": {},
   "source": [
    "## ImageLoad Class Use"
   ]
  },
  {
   "cell_type": "code",
   "execution_count": 2,
   "metadata": {},
   "outputs": [],
   "source": [
    "folder_path = \"/Users/kjams/Desktop/research/health_informatics/app/data/stages\""
   ]
  },
  {
   "cell_type": "markdown",
   "metadata": {},
   "source": [
    "## CNN Class Use"
   ]
  },
  {
   "cell_type": "code",
   "execution_count": 3,
   "metadata": {},
   "outputs": [
    {
     "name": "stdout",
     "output_type": "stream",
     "text": [
      "Start batch process...\n"
     ]
    },
    {
     "name": "stderr",
     "output_type": "stream",
     "text": [
<<<<<<< HEAD
      "Processing images: 100%|██████████| 4097/4097 [00:07<00:00, 543.73it/s]\n"
=======
      "Processing images: 100%|██████████| 4097/4097 [00:09<00:00, 444.87it/s]\n"
>>>>>>> 8d41a47bd855c08c5cb7d953f59632b1fbd7b6ae
     ]
    },
    {
     "name": "stdout",
     "output_type": "stream",
     "text": [
      "Batch process completed.\n"
     ]
    },
    {
     "name": "stderr",
     "output_type": "stream",
     "text": [
<<<<<<< HEAD
      "100%|██████████| 14890/14890 [00:03<00:00, 3839.36it/s]\n"
=======
      "100%|██████████| 16388/16388 [00:12<00:00, 1264.62it/s]\n"
>>>>>>> 8d41a47bd855c08c5cb7d953f59632b1fbd7b6ae
     ]
    },
    {
     "name": "stdout",
     "output_type": "stream",
     "text": [
      "Image and label tensors created\n"
     ]
    }
   ],
   "source": [
    "cnn = Convoultion_NN(folder_path)"
   ]
  },
  {
   "cell_type": "code",
   "execution_count": 4,
   "metadata": {},
   "outputs": [
    {
     "data": {
      "text/html": [
       "<div>\n",
       "<style scoped>\n",
       "    .dataframe tbody tr th:only-of-type {\n",
       "        vertical-align: middle;\n",
       "    }\n",
       "\n",
       "    .dataframe tbody tr th {\n",
       "        vertical-align: top;\n",
       "    }\n",
       "\n",
       "    .dataframe thead th {\n",
       "        text-align: right;\n",
       "    }\n",
       "</style>\n",
       "<table border=\"1\" class=\"dataframe\">\n",
       "  <thead>\n",
       "    <tr style=\"text-align: right;\">\n",
       "      <th></th>\n",
       "      <th>Label</th>\n",
       "      <th>Image</th>\n",
       "      <th>EncodedLabel</th>\n",
       "    </tr>\n",
       "  </thead>\n",
       "  <tbody>\n",
       "    <tr>\n",
       "      <th>0</th>\n",
       "      <td>Early</td>\n",
       "      <td>[[[207, 255, 255], [225, 255, 255], [255, 176,...</td>\n",
       "      <td>1</td>\n",
       "    </tr>\n",
       "    <tr>\n",
       "      <th>1</th>\n",
       "      <td>Early</td>\n",
<<<<<<< HEAD
       "      <td>[[[239, 230, 218], [240, 229, 218], [243, 227,...</td>\n",
=======
       "      <td>[[[215, 197, 196], [215, 190, 191], [230, 210,...</td>\n",
>>>>>>> 8d41a47bd855c08c5cb7d953f59632b1fbd7b6ae
       "      <td>1</td>\n",
       "    </tr>\n",
       "    <tr>\n",
       "      <th>2</th>\n",
       "      <td>Early</td>\n",
<<<<<<< HEAD
       "      <td>[[[228, 255, 227], [255, 221, 221], [255, 211,...</td>\n",
=======
       "      <td>[[[223, 180, 183], [223, 183, 183], [229, 184,...</td>\n",
>>>>>>> 8d41a47bd855c08c5cb7d953f59632b1fbd7b6ae
       "      <td>1</td>\n",
       "    </tr>\n",
       "    <tr>\n",
       "      <th>3</th>\n",
       "      <td>Early</td>\n",
<<<<<<< HEAD
       "      <td>[[[255, 255, 255], [246, 255, 200], [255, 255,...</td>\n",
=======
       "      <td>[[[210, 183, 186], [204, 180, 181], [209, 181,...</td>\n",
>>>>>>> 8d41a47bd855c08c5cb7d953f59632b1fbd7b6ae
       "      <td>1</td>\n",
       "    </tr>\n",
       "    <tr>\n",
       "      <th>4</th>\n",
       "      <td>Early</td>\n",
<<<<<<< HEAD
       "      <td>[[[207, 157, 147], [233, 204, 192], [232, 211,...</td>\n",
=======
       "      <td>[[[218, 188, 170], [252, 215, 255], [255, 237,...</td>\n",
>>>>>>> 8d41a47bd855c08c5cb7d953f59632b1fbd7b6ae
       "      <td>1</td>\n",
       "    </tr>\n",
       "  </tbody>\n",
       "</table>\n",
       "</div>"
      ],
      "text/plain": [
       "   Label                                              Image  EncodedLabel\n",
<<<<<<< HEAD
       "0  Early  [[[207, 255, 255], [225, 255, 255], [255, 176,...             1\n",
       "1  Early  [[[239, 230, 218], [240, 229, 218], [243, 227,...             1\n",
       "2  Early  [[[228, 255, 227], [255, 221, 221], [255, 211,...             1\n",
       "3  Early  [[[255, 255, 255], [246, 255, 200], [255, 255,...             1\n",
       "4  Early  [[[207, 157, 147], [233, 204, 192], [232, 211,...             1"
=======
       "0  Early  [[[207, 180, 180], [204, 165, 166], [212, 169,...             1\n",
       "1  Early  [[[215, 197, 196], [215, 190, 191], [230, 210,...             1\n",
       "2  Early  [[[223, 180, 183], [223, 183, 183], [229, 184,...             1\n",
       "3  Early  [[[210, 183, 186], [204, 180, 181], [209, 181,...             1\n",
       "4  Early  [[[218, 188, 170], [252, 215, 255], [255, 237,...             1"
>>>>>>> 8d41a47bd855c08c5cb7d953f59632b1fbd7b6ae
      ]
     },
     "execution_count": 4,
     "metadata": {},
     "output_type": "execute_result"
    }
   ],
   "source": [
    "cnn.df.head()"
   ]
  },
  {
   "cell_type": "code",
   "execution_count": 5,
   "metadata": {},
   "outputs": [
    {
     "name": "stdout",
     "output_type": "stream",
     "text": [
      "labels: 4\n",
      "architecture: wide\n",
      "batch size: 32\n",
      "device: cpu\n",
      "Sequential(\n",
      "  (0): Conv2d(3, 128, kernel_size=(3, 3), stride=(1, 1), padding=(1, 1))\n",
      "  (1): BatchNorm2d(128, eps=1e-05, momentum=0.1, affine=True, track_running_stats=True)\n",
      "  (2): ReLU()\n",
      "  (3): MaxPool2d(kernel_size=2, stride=2, padding=0, dilation=1, ceil_mode=False)\n",
      "  (4): Dropout(p=0.25, inplace=False)\n",
      "  (5): Conv2d(128, 256, kernel_size=(3, 3), stride=(1, 1), padding=(1, 1))\n",
      "  (6): BatchNorm2d(256, eps=1e-05, momentum=0.1, affine=True, track_running_stats=True)\n",
      "  (7): ReLU()\n",
      "  (8): MaxPool2d(kernel_size=2, stride=2, padding=0, dilation=1, ceil_mode=False)\n",
      "  (9): Dropout(p=0.25, inplace=False)\n",
      "  (10): Flatten(start_dim=1, end_dim=-1)\n",
      "  (11): Linear(in_features=65536, out_features=512, bias=True)\n",
      "  (12): ReLU()\n",
      "  (13): Dropout(p=0.5, inplace=False)\n",
      "  (14): Linear(in_features=512, out_features=4, bias=True)\n",
      ")\n"
     ]
    }
   ],
   "source": [
    "print(f'labels: {cnn.number_of_labels}')\n",
    "print(f'architecture: {cnn.architecture}')\n",
    "print(f'batch size: {cnn.batch_size}')\n",
    "print(f'device: {cnn.device}')\n",
    "print(cnn.model)"
   ]
  },
  {
   "cell_type": "code",
   "execution_count": 6,
   "metadata": {},
   "outputs": [
    {
     "name": "stderr",
     "output_type": "stream",
     "text": [
<<<<<<< HEAD
      "100%|██████████| 466/466 [09:59<00:00,  1.29s/it]\n"
     ]
    },
    {
     "name": "stdout",
     "output_type": "stream",
     "text": [
      "Epoch [1/2], Loss: 1.8398\n"
     ]
    },
    {
     "name": "stderr",
     "output_type": "stream",
     "text": [
      "100%|██████████| 466/466 [10:40<00:00,  1.37s/it]"
     ]
    },
    {
     "name": "stdout",
     "output_type": "stream",
     "text": [
      "Epoch [2/2], Loss: 0.7077\n"
     ]
    },
    {
     "name": "stderr",
     "output_type": "stream",
     "text": [
      "\n"
=======
      "  4%|▍         | 23/513 [00:51<19:51,  2.43s/it]"
>>>>>>> 8d41a47bd855c08c5cb7d953f59632b1fbd7b6ae
     ]
    }
   ],
   "source": [
    "cnn.train_model(epochs=2)\n"
   ]
  },
  {
   "cell_type": "code",
   "execution_count": 7,
   "metadata": {},
   "outputs": [
    {
     "name": "stdout",
     "output_type": "stream",
     "text": [
      "Model output: tensor([[  7.7265,   7.7762,   0.0230, -16.9722]])\n"
     ]
    },
    {
     "data": {
      "text/plain": [
       "'Early'"
      ]
     },
     "execution_count": 7,
     "metadata": {},
     "output_type": "execute_result"
    }
   ],
   "source": [
    "# Malignant\n",
<<<<<<< HEAD
    "test_file_path = '/Users/kjams/Desktop/research/health_informatics/app/data/stages/Early/WBC-Malignant-Early-232.jpg'\n",
=======
    "test_file_path = '/Users/kjams/Desktop/research/health_informatics/app/data/stages/Early/WBC-Malignant-Early-302.jpg'\n",
>>>>>>> 8d41a47bd855c08c5cb7d953f59632b1fbd7b6ae
    "\n",
    "cnn.process_image(test_file_path)"
   ]
  },
  {
   "cell_type": "code",
   "execution_count": 16,
   "metadata": {},
   "outputs": [
    {
     "name": "stdout",
     "output_type": "stream",
     "text": [
      "Model output: tensor([[ 11.2751,  11.2136,   4.9189, -20.4853]])\n"
     ]
    },
    {
     "data": {
      "text/plain": [
       "'Benign'"
      ]
     },
     "execution_count": 16,
     "metadata": {},
     "output_type": "execute_result"
    }
   ],
   "source": [
    "# Benign\n",
<<<<<<< HEAD
    "test_file_path = '/Users/kjams/Desktop/research/health_informatics/app/data/stages/Benign/WBC-Benign-119.jpg'\n",
=======
    "test_file_path = '/Users/kjams/Desktop/research/health_informatics/app/data/stages/Benign/WBC-Benign-011.jpg'\n",
>>>>>>> 8d41a47bd855c08c5cb7d953f59632b1fbd7b6ae
    "\n",
    "cnn.process_image(test_file_path)"
   ]
  },
  {
   "cell_type": "code",
   "execution_count": 9,
   "metadata": {},
   "outputs": [],
   "source": [
    "# TODO: Create as in-class method\n",
    "# Save model\n",
    "state_dict = cnn.model.state_dict()  # Retrieve the model's state dictionary\n",
    "\n",
    "# Saving state to .pth file\n",
<<<<<<< HEAD
    "torch.save(state_dict, 'model_11_2_1.pth')\n",
=======
    "torch.save(state_dict, 'model_no_blur_state.pth')\n",
>>>>>>> 8d41a47bd855c08c5cb7d953f59632b1fbd7b6ae
    "\n",
    "# cnn.model.load_state_dict(torch.load('model_state.pth'))\n",
    "\n"
   ]
  },
  {
   "cell_type": "code",
   "execution_count": 10,
   "metadata": {},
   "outputs": [
    {
     "name": "stdout",
     "output_type": "stream",
     "text": [
      "----------------------------------------------------------------\n",
      "        Layer (type)               Output Shape         Param #\n",
      "================================================================\n",
      "            Conv2d-1          [-1, 128, 64, 64]           3,584\n",
      "       BatchNorm2d-2          [-1, 128, 64, 64]             256\n",
      "              ReLU-3          [-1, 128, 64, 64]               0\n",
      "         MaxPool2d-4          [-1, 128, 32, 32]               0\n",
      "           Dropout-5          [-1, 128, 32, 32]               0\n",
      "            Conv2d-6          [-1, 256, 32, 32]         295,168\n",
      "       BatchNorm2d-7          [-1, 256, 32, 32]             512\n",
      "              ReLU-8          [-1, 256, 32, 32]               0\n",
      "         MaxPool2d-9          [-1, 256, 16, 16]               0\n",
      "          Dropout-10          [-1, 256, 16, 16]               0\n",
      "          Flatten-11                [-1, 65536]               0\n",
      "           Linear-12                  [-1, 512]      33,554,944\n",
      "             ReLU-13                  [-1, 512]               0\n",
      "          Dropout-14                  [-1, 512]               0\n",
      "           Linear-15                    [-1, 4]           2,052\n",
      "================================================================\n",
      "Total params: 33,856,516\n",
      "Trainable params: 33,856,516\n",
      "Non-trainable params: 0\n",
      "----------------------------------------------------------------\n",
      "Input size (MB): 0.05\n",
      "Forward/backward pass size (MB): 21.51\n",
      "Params size (MB): 129.15\n",
      "Estimated Total Size (MB): 150.71\n",
      "----------------------------------------------------------------\n"
     ]
    }
   ],
   "source": [
    "summary(cnn.model, input_size=(3, 64, 64))"
   ]
  },
  {
   "cell_type": "code",
   "execution_count": 11,
   "metadata": {},
   "outputs": [
    {
     "data": {
      "text/plain": [
       "array(['Early', 'Pro', 'Benign', 'Pre'], dtype=object)"
      ]
     },
     "execution_count": 11,
     "metadata": {},
     "output_type": "execute_result"
    }
   ],
   "source": [
    "cnn.df['Label'].unique()"
   ]
  },
  {
   "cell_type": "code",
   "execution_count": 12,
   "metadata": {},
   "outputs": [
    {
     "name": "stdout",
     "output_type": "stream",
     "text": [
      "2262\n"
     ]
    }
   ],
   "source": [
    "count_benign = (cnn.df['Label'] == 'Benign').sum()\n",
    "print(count_benign)\n"
   ]
  },
  {
   "cell_type": "code",
   "execution_count": 13,
   "metadata": {},
   "outputs": [
    {
     "name": "stdout",
     "output_type": "stream",
     "text": [
      "6398\n"
     ]
    }
   ],
   "source": [
    "print((cnn.df['EncodedLabel'] == 1).sum())"
   ]
  },
  {
   "cell_type": "code",
   "execution_count": 14,
   "metadata": {},
   "outputs": [
    {
     "data": {
      "text/plain": [
       "array(['Early', 'Pro', 'Benign', 'Pre'], dtype=object)"
      ]
     },
     "execution_count": 14,
     "metadata": {},
     "output_type": "execute_result"
    }
   ],
   "source": [
    "cnn.df['Label'].unique()"
   ]
  },
  {
   "cell_type": "code",
   "execution_count": 15,
   "metadata": {},
   "outputs": [
    {
     "name": "stdout",
     "output_type": "stream",
     "text": [
      "Early:, 6398\n",
      "Pro:, 2813\n",
      "Benign:, 2262\n",
      "Pre:, 3417\n"
     ]
    }
   ],
   "source": [
    "for name in cnn.df['Label'].unique():\n",
    "    print(f\"{name}:, {(cnn.df['Label'] == name).sum()}\")"
   ]
  },
  {
   "cell_type": "code",
   "execution_count": null,
   "metadata": {},
   "outputs": [],
<<<<<<< HEAD
=======
   "source": [
    "import cv2\n",
    "img = cv2.imread('/Users/kjams/Desktop/research/health_informatics/app/data/testing_data/benign/WBC-Benign-001.jpg')\n",
    "img_resized = cv2.resize(img, (64,64))  # Resize the image\n",
    "height, width = img_resized.shape[:2]\n",
    "new_height = height - (height // 8)\n",
    "img_resized = img_resized[0:new_height, 0:width]\n",
    "cv2.imshow('Cropped Image', img_resized)\n",
    "\n",
    "       "
   ]
  },
  {
   "cell_type": "code",
   "execution_count": null,
   "metadata": {},
   "outputs": [],
   "source": [
    "cnn.label_encoder.classes_"
   ]
  },
  {
   "cell_type": "code",
   "execution_count": null,
   "metadata": {},
   "outputs": [],
>>>>>>> 8d41a47bd855c08c5cb7d953f59632b1fbd7b6ae
   "source": []
  }
 ],
 "metadata": {
  "kernelspec": {
   "display_name": "cancer_app",
   "language": "python",
   "name": "python3"
  },
  "language_info": {
   "codemirror_mode": {
    "name": "ipython",
    "version": 3
   },
   "file_extension": ".py",
   "mimetype": "text/x-python",
   "name": "python",
   "nbconvert_exporter": "python",
   "pygments_lexer": "ipython3",
   "version": "3.9.20"
  }
 },
 "nbformat": 4,
 "nbformat_minor": 2
}
